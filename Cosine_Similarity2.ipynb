{
  "nbformat": 4,
  "nbformat_minor": 0,
  "metadata": {
    "colab": {
      "name": "Cosine_Similarity2.ipynb",
      "provenance": [],
      "collapsed_sections": []
    },
    "kernelspec": {
      "name": "python3",
      "display_name": "Python 3"
    },
    "language_info": {
      "name": "python"
    }
  },
  "cells": [
    {
      "cell_type": "code",
      "metadata": {
        "id": "nxVHUak1bY6q",
        "colab": {
          "base_uri": "https://localhost:8080/",
          "height": 265
        },
        "outputId": "38f4e3c9-14b2-4377-a8e8-8d2133af7b1c"
      },
      "source": [
        "import pandas as pd\n",
        "import numpy as np\n",
        "from sklearn.preprocessing import MinMaxScaler as MMS\n",
        "from sklearn.metrics.pairwise import cosine_similarity\n",
        "\n",
        "df = pd.read_excel('/content/1.COOLING-RADIATOR ASSY.xlsx')\n",
        "data = df.drop(['PART NAME','PART NUMBER','IMAGE'],1)\n",
        "data['No. OF TUBES'] = data['No. OF TUBES'].fillna(df['No. OF TUBES'].mode()[0])\n",
        "data['HEIGHT\\n(mm)'][0]  = round(data['HEIGHT\\n(mm)'][1:].mean(),1) #= data['']\n",
        "scaler = MMS()\n",
        "data_scaled = scaler.fit_transform(data)\n",
        "val=[]\n",
        "\n",
        "def find_cosine_similarity(col1,col2):\n",
        "  return cosine_similarity(col1.reshape(1, -1), col2.reshape(1, -1))[0]\n",
        "\n",
        "def similarity(width,heigth,thikness,no_of_tubes,FIN_pitch,FPDM):\n",
        "  test = np.array([width,heigth,thikness,no_of_tubes,FIN_pitch,FPDM])\n",
        "  test = scaler.transform(test.reshape(1, -1))\n",
        "  scaled_data = pd.DataFrame(data_scaled,columns = list(data.columns))\n",
        "  columns_name = list(data.columns)\n",
        "  for i in range(scaled_data.shape[0]):\n",
        "    val.append(find_cosine_similarity(np.array(scaled_data.iloc[i]),test)[0])\n",
        "  data['Cosine_Similarity'] = val\n",
        "  #data['Cosine_Similarity']\n",
        "  max_value=max(val)\n",
        "  max_index = val.index(max_value)\n",
        "  return max_index\n",
        "width=float(input(\"Enter the value of width = \"))\n",
        "height=float(input(\"Enter the value of height = \"))\n",
        "thikness=float(input(\"Enter the value of thickness = \"))\n",
        "no_of_tubes=float(input(\"Enter the value of no of tubes = \"))\n",
        "FIN_pitch=float(input(\"Enter the value of FIN Pitch\"))\n",
        "FPDM=float(input(\"Enter the value of FPDM\"))\n",
        "max_index=similarity(width,heigth,thikness,no_of_tubes,FIN_pitch,FPDM)\n",
        "df.iloc[[max_index-1]]"
      ],
      "execution_count": 6,
      "outputs": [
        {
          "output_type": "stream",
          "text": [
            "/usr/local/lib/python3.7/dist-packages/ipykernel_launcher.py:7: SettingWithCopyWarning: \n",
            "A value is trying to be set on a copy of a slice from a DataFrame\n",
            "\n",
            "See the caveats in the documentation: https://pandas.pydata.org/pandas-docs/stable/user_guide/indexing.html#returning-a-view-versus-a-copy\n",
            "  import sys\n"
          ],
          "name": "stderr"
        },
        {
          "output_type": "stream",
          "text": [
            "Enter the value of width = 488\n",
            "Enter the value of height = 360\n",
            "Enter the value of thickness = 24\n",
            "Enter the value of no of tubes = 49\n",
            "Enter the value of FIN Pitch2.75\n",
            "Enter the value of FPDM73\n"
          ],
          "name": "stdout"
        },
        {
          "output_type": "execute_result",
          "data": {
            "text/html": [
              "<div>\n",
              "<style scoped>\n",
              "    .dataframe tbody tr th:only-of-type {\n",
              "        vertical-align: middle;\n",
              "    }\n",
              "\n",
              "    .dataframe tbody tr th {\n",
              "        vertical-align: top;\n",
              "    }\n",
              "\n",
              "    .dataframe thead th {\n",
              "        text-align: right;\n",
              "    }\n",
              "</style>\n",
              "<table border=\"1\" class=\"dataframe\">\n",
              "  <thead>\n",
              "    <tr style=\"text-align: right;\">\n",
              "      <th></th>\n",
              "      <th>PART NAME</th>\n",
              "      <th>PART NUMBER</th>\n",
              "      <th>IMAGE</th>\n",
              "      <th>WIDTH\\n(mm)</th>\n",
              "      <th>HEIGHT\\n(mm)</th>\n",
              "      <th>THICKNESS\\n(mm)</th>\n",
              "      <th>No. OF TUBES</th>\n",
              "      <th>FIN PITCH\\n(mm)</th>\n",
              "      <th>FPDM\\n</th>\n",
              "    </tr>\n",
              "  </thead>\n",
              "  <tbody>\n",
              "    <tr>\n",
              "      <th>1</th>\n",
              "      <td>RADIATOR ASSY</td>\n",
              "      <td>0304AAB00970N</td>\n",
              "      <td>NaN</td>\n",
              "      <td>402.6</td>\n",
              "      <td>453</td>\n",
              "      <td>16.0</td>\n",
              "      <td>46.0</td>\n",
              "      <td>2.75</td>\n",
              "      <td>73</td>\n",
              "    </tr>\n",
              "  </tbody>\n",
              "</table>\n",
              "</div>"
            ],
            "text/plain": [
              "       PART NAME    PART NUMBER  IMAGE  ...  No. OF TUBES FIN PITCH\\n(mm)  FPDM\\n\n",
              "1  RADIATOR ASSY  0304AAB00970N    NaN  ...          46.0            2.75      73\n",
              "\n",
              "[1 rows x 9 columns]"
            ]
          },
          "metadata": {
            "tags": []
          },
          "execution_count": 6
        }
      ]
    },
    {
      "cell_type": "code",
      "metadata": {
        "id": "sYU2vOfX9sfs"
      },
      "source": [
        ""
      ],
      "execution_count": null,
      "outputs": []
    }
  ]
}